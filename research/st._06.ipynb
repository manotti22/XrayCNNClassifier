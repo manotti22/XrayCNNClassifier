{
 "cells": [
  {
   "cell_type": "code",
   "execution_count": 3,
   "metadata": {},
   "outputs": [],
   "source": [
    "import tensorflow as tf\n"
   ]
  },
  {
   "cell_type": "code",
   "execution_count": 1,
   "metadata": {},
   "outputs": [],
   "source": [
    "import os\n",
    "os.getcwd()\n",
    "os.chdir('C://Users//HPr//XrayCNNClassifier')"
   ]
  },
  {
   "cell_type": "code",
   "execution_count": 4,
   "metadata": {},
   "outputs": [],
   "source": [
    "model = tf.keras.models.load_model(\"./artifacts/training/model.h5\")\n"
   ]
  },
  {
   "cell_type": "code",
   "execution_count": 5,
   "metadata": {},
   "outputs": [],
   "source": [
    "from PIL import Image\n",
    "import numpy as np\n",
    "\n",
    "img = Image.open(\"C://Users//HPr//XrayCNNClassifier//artifacts//data_ingestion//Brain Data//-T1//8-T1.png\")\n",
    "img_width, img_height, _ = 224, 224,3"
   ]
  },
  {
   "cell_type": "code",
   "execution_count": 25,
   "metadata": {},
   "outputs": [],
   "source": [
    "from PIL import Image\n",
    "import numpy as np\n",
    "\n",
    "# Load image\n",
    "img = Image.open(\"C://Users//HPr//XrayCNNClassifier//artifacts//data_ingestion//Brain Data//-T1//8-T1.png\")\n",
    "\n",
    "\n",
    "# Resize image to target dimensions (e.g., 369 x 369)\n",
    "img_resized = img.resize((369, 369))\n",
    "\n",
    "# Convert image to Numpy array\n",
    "img_array = np.array(img_resized)\n",
    "\n",
    "# If the image has a single channel (grayscale), add an extra dimension to make it three-dimensional (RGB)\n",
    "if len(img_array.shape) == 2:\n",
    "    img_array = np.expand_dims(img_array, axis=-1)\n",
    "    img_array = np.repeat(img_array, 3, axis=-1)\n",
    "\n",
    "# If the image has four channels, drop the fourth channel\n",
    "if img_array.shape[-1] == 4:\n",
    "    img_array = img_array[..., :3]\n",
    "\n",
    "# Reshape image to have a batch dimension of 1 (i.e., shape = (1, 369, 369, 3))\n",
    "img_reshaped = img_array.reshape((1,) + img_array.shape)\n"
   ]
  },
  {
   "cell_type": "code",
   "execution_count": 17,
   "metadata": {},
   "outputs": [],
   "source": [
    "#img_array = np.array(img)\n"
   ]
  },
  {
   "cell_type": "code",
   "execution_count": 27,
   "metadata": {},
   "outputs": [
    {
     "data": {
      "text/plain": [
       "(1, 369, 369, 3)"
      ]
     },
     "execution_count": 27,
     "metadata": {},
     "output_type": "execute_result"
    }
   ],
   "source": [
    "img_reshaped.shape\n",
    "\n"
   ]
  },
  {
   "cell_type": "code",
   "execution_count": 28,
   "metadata": {},
   "outputs": [
    {
     "name": "stdout",
     "output_type": "stream",
     "text": [
      "1/1 [==============================] - 4s 4s/step\n"
     ]
    },
    {
     "data": {
      "text/plain": [
       "array([[0.0000000e+00, 0.0000000e+00, 0.0000000e+00, 0.0000000e+00,\n",
       "        1.0000000e+00, 2.5093247e-37]], dtype=float32)"
      ]
     },
     "execution_count": 28,
     "metadata": {},
     "output_type": "execute_result"
    }
   ],
   "source": [
    "result = model.predict(img_reshaped)\n",
    "result"
   ]
  }
 ],
 "metadata": {
  "kernelspec": {
   "display_name": "Python 3",
   "language": "python",
   "name": "python3"
  },
  "language_info": {
   "codemirror_mode": {
    "name": "ipython",
    "version": 3
   },
   "file_extension": ".py",
   "mimetype": "text/x-python",
   "name": "python",
   "nbconvert_exporter": "python",
   "pygments_lexer": "ipython3",
   "version": "3.8.16"
  },
  "orig_nbformat": 4
 },
 "nbformat": 4,
 "nbformat_minor": 2
}
